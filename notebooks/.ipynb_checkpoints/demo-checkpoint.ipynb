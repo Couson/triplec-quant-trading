{
 "cells": [
  {
   "cell_type": "markdown",
   "metadata": {},
   "source": [
    "# quantitative trading strategy\n",
    "- momentum: is calculated by multiplying the annualized exponential regression slope of the past 90 days by the R^2\n",
    "  coefficient of the regression calculation."
   ]
  },
  {
   "cell_type": "markdown",
   "metadata": {},
   "source": [
    "# useful link:\n",
    "- IEX Cloud Official Website: https://iexcloud.io\n",
    "- AIP usage: https://intercom.help/iexcloud/en/articles/2851957-how-to-use-the-iex-cloud-api"
   ]
  },
  {
   "cell_type": "code",
   "execution_count": 32,
   "metadata": {},
   "outputs": [],
   "source": [
    "import pandas as pd\n",
    "import pandas_datareader.data as web\n",
    "import numpy as np\n",
    "\n",
    "from datetime import datetime \n",
    "from concurrent import futures \n",
    "\n",
    "import os\n"
   ]
  },
  {
   "cell_type": "code",
   "execution_count": 52,
   "metadata": {},
   "outputs": [],
   "source": [
    "os.environ[\"IEX_API_KEY\"] = \"pk_bb0c951325644c85933eac23922759c1\"\n",
    "data_path = '../data/spy'\n"
   ]
  },
  {
   "cell_type": "code",
   "execution_count": 43,
   "metadata": {},
   "outputs": [],
   "source": [
    "def download(ticker):\n",
    "    df = web.DataReader(ticker,'iex', start, end)\n",
    "    df.to_csv(f\"../data/spy/{ticker}.csv\")\n",
    "    "
   ]
  },
  {
   "cell_type": "code",
   "execution_count": 35,
   "metadata": {},
   "outputs": [],
   "source": [
    "# get the list of tickers from wiki\n",
    "data = pd.read_html('https://en.wikipedia.org/wiki/List_of_S%26P_500_companies')\n",
    "table = data[0]\n",
    "tickers = table.loc[:, 'Symbol'].tolist()\n",
    "pd.Series(tickers).to_csv(\"../data/spy/tickers.csv\")\n"
   ]
  },
  {
   "cell_type": "code",
   "execution_count": 45,
   "metadata": {
    "scrolled": false
   },
   "outputs": [],
   "source": [
    "# get ticker data from the past 5 yrs; up to 15 years\n",
    "\n",
    "end = datetime.now() \n",
    "start = datetime(end.year - 5, end.month , end.day)\n",
    "\n",
    "with futures.ThreadPoolExecutor(50) as executor: \n",
    "    res = executor.map(download, tickers) \n"
   ]
  },
  {
   "cell_type": "code",
   "execution_count": 59,
   "metadata": {},
   "outputs": [
    {
     "data": {
      "text/html": [
       "<div>\n",
       "<style scoped>\n",
       "    .dataframe tbody tr th:only-of-type {\n",
       "        vertical-align: middle;\n",
       "    }\n",
       "\n",
       "    .dataframe tbody tr th {\n",
       "        vertical-align: top;\n",
       "    }\n",
       "\n",
       "    .dataframe thead th {\n",
       "        text-align: right;\n",
       "    }\n",
       "</style>\n",
       "<table border=\"1\" class=\"dataframe\">\n",
       "  <thead>\n",
       "    <tr style=\"text-align: right;\">\n",
       "      <th></th>\n",
       "      <th>date</th>\n",
       "      <th>open</th>\n",
       "      <th>high</th>\n",
       "      <th>low</th>\n",
       "      <th>close</th>\n",
       "      <th>volume</th>\n",
       "    </tr>\n",
       "  </thead>\n",
       "  <tbody>\n",
       "    <tr>\n",
       "      <th>0</th>\n",
       "      <td>2016-01-19</td>\n",
       "      <td>39.59</td>\n",
       "      <td>39.780</td>\n",
       "      <td>38.21</td>\n",
       "      <td>38.86</td>\n",
       "      <td>10505908</td>\n",
       "    </tr>\n",
       "    <tr>\n",
       "      <th>1</th>\n",
       "      <td>2016-01-20</td>\n",
       "      <td>38.53</td>\n",
       "      <td>39.845</td>\n",
       "      <td>36.20</td>\n",
       "      <td>39.06</td>\n",
       "      <td>16089109</td>\n",
       "    </tr>\n",
       "    <tr>\n",
       "      <th>2</th>\n",
       "      <td>2016-01-21</td>\n",
       "      <td>38.93</td>\n",
       "      <td>40.000</td>\n",
       "      <td>38.02</td>\n",
       "      <td>39.79</td>\n",
       "      <td>9781683</td>\n",
       "    </tr>\n",
       "    <tr>\n",
       "      <th>3</th>\n",
       "      <td>2016-01-22</td>\n",
       "      <td>40.00</td>\n",
       "      <td>40.720</td>\n",
       "      <td>39.57</td>\n",
       "      <td>40.16</td>\n",
       "      <td>7247031</td>\n",
       "    </tr>\n",
       "    <tr>\n",
       "      <th>4</th>\n",
       "      <td>2016-01-25</td>\n",
       "      <td>40.02</td>\n",
       "      <td>40.160</td>\n",
       "      <td>38.82</td>\n",
       "      <td>38.88</td>\n",
       "      <td>10113170</td>\n",
       "    </tr>\n",
       "  </tbody>\n",
       "</table>\n",
       "</div>"
      ],
      "text/plain": [
       "         date   open    high    low  close    volume\n",
       "0  2016-01-19  39.59  39.780  38.21  38.86  10505908\n",
       "1  2016-01-20  38.53  39.845  36.20  39.06  16089109\n",
       "2  2016-01-21  38.93  40.000  38.02  39.79   9781683\n",
       "3  2016-01-22  40.00  40.720  39.57  40.16   7247031\n",
       "4  2016-01-25  40.02  40.160  38.82  38.88  10113170"
      ]
     },
     "execution_count": 59,
     "metadata": {},
     "output_type": "execute_result"
    }
   ],
   "source": [
    "df = pd.read_csv('../data/spy/AAL.csv')\n",
    "df.head()"
   ]
  },
  {
   "cell_type": "code",
   "execution_count": 53,
   "metadata": {},
   "outputs": [
    {
     "data": {
      "text/plain": [
       "['ALLE.csv',\n",
       " 'VNT.csv',\n",
       " 'AON.csv',\n",
       " 'AMCR.csv',\n",
       " 'VTRS.csv',\n",
       " 'AAL.csv',\n",
       " 'CARR.csv',\n",
       " 'tickers.csv']"
      ]
     },
     "execution_count": 53,
     "metadata": {},
     "output_type": "execute_result"
    }
   ],
   "source": [
    "os.listdir(data_path)\n"
   ]
  },
  {
   "cell_type": "code",
   "execution_count": 56,
   "metadata": {},
   "outputs": [],
   "source": [
    "# tickers = pd.read_csv('survivorship-free/tickers.csv', header=None)[1].tolist()\n",
    "# stocks = (\n",
    "#     (pd.concat(\n",
    "#         [pd.read_csv(f\"survivorship-free/{ticker}.csv\", index_col='date', parse_dates=True)[\n",
    "#             'close'\n",
    "#         ].rename(ticker)\n",
    "#         for ticker in tickers],\n",
    "#         axis=1,\n",
    "#         sort=True)\n",
    "#     )\n",
    "# )\n",
    "# stocks = stocks.loc[:,~stocks.columns.duplicated()]\n"
   ]
  },
  {
   "cell_type": "code",
   "execution_count": null,
   "metadata": {},
   "outputs": [],
   "source": []
  },
  {
   "cell_type": "code",
   "execution_count": null,
   "metadata": {},
   "outputs": [],
   "source": []
  },
  {
   "cell_type": "code",
   "execution_count": null,
   "metadata": {},
   "outputs": [],
   "source": []
  }
 ],
 "metadata": {
  "kernelspec": {
   "display_name": "Python 3",
   "language": "python",
   "name": "python3"
  },
  "language_info": {
   "codemirror_mode": {
    "name": "ipython",
    "version": 3
   },
   "file_extension": ".py",
   "mimetype": "text/x-python",
   "name": "python",
   "nbconvert_exporter": "python",
   "pygments_lexer": "ipython3",
   "version": "3.7.0"
  }
 },
 "nbformat": 4,
 "nbformat_minor": 4
}
