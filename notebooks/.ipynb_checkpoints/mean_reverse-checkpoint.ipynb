{
 "cells": [
  {
   "cell_type": "code",
   "execution_count": 1,
   "metadata": {},
   "outputs": [],
   "source": [
    "from datetime import datetime \n",
    "import pandas as pd\n",
    "import matplotlib.pyplot as plt\n",
    "import numpy as np\n",
    "import pandas as pd\n",
    "import pandas_datareader.data as web\n",
    "import backtrader as bt\n",
    "import numpy as np\n",
    "from datetime import datetime \n",
    "%matplotlib inline\n",
    "plt.rcParams[\"figure.figsize\"] = (10, 6) # (w, h)\n",
    "plt.ioff()"
   ]
  },
  {
   "cell_type": "code",
   "execution_count": 2,
   "metadata": {},
   "outputs": [],
   "source": [
    "end = datetime.now() \n",
    "start = datetime(end.year - 5, end.month , end.day)\n",
    "bad = []\n",
    "\n",
    "tickers = pd.read_csv('~/Documents/GitHub/triplec-quant-trading/data/survivorship-free/tickers.csv', header=None)[1].tolist()\n",
    "stocks = (\n",
    "    (pd.concat(\n",
    "        [pd.read_csv(f\"~/Documents/GitHub/triplec-quant-trading/data/survivorship-free/{ticker}.csv\", index_col='date', parse_dates=True)[\n",
    "            'close'\n",
    "        ].rename(ticker)\n",
    "        for ticker in tickers],\n",
    "        axis=1,\n",
    "        sort=True)\n",
    "    )\n",
    ")\n",
    "stocks = stocks.loc[:,~stocks.columns.duplicated()]"
   ]
  },
  {
   "cell_type": "code",
   "execution_count": 3,
   "metadata": {},
   "outputs": [],
   "source": [
    "class CrossSectionalMR(bt.Strategy):\n",
    "    def prenext(self):\n",
    "        self.next()\n",
    "    \n",
    "    def next(self):\n",
    "        # only look at data that existed yesterday\n",
    "        available = list(filter(lambda d: len(d), self.datas)) \n",
    "        \n",
    "        rets = np.zeros(len(available))\n",
    "        for i, d in enumerate(available):\n",
    "            # calculate individual daily returns\n",
    "            rets[i] = (d.close[0]- d.close[-1]) / d.close[-1]\n",
    "\n",
    "        # calculate weights using formula\n",
    "        market_ret = np.mean(rets)\n",
    "        weights = -(rets - market_ret)\n",
    "        weights = weights / np.sum(np.abs(weights))\n",
    "        \n",
    "        for i, d in enumerate(available):\n",
    "            self.order_target_percent(d, target=weights[i])"
   ]
  },
  {
   "cell_type": "code",
   "execution_count": null,
   "metadata": {
    "scrolled": false
   },
   "outputs": [],
   "source": [
    "cerebro = bt.Cerebro(stdstats=False)\n",
    "cerebro.broker.set_coc(True)\n",
    "\n",
    "for ticker in tickers:\n",
    "    data = bt.feeds.GenericCSVData(\n",
    "        fromdate=start,\n",
    "        todate=end,\n",
    "        dataname=f\"../data/survivorship-free/{ticker}.csv\",\n",
    "        dtformat=('%Y-%m-%d'),\n",
    "        openinterest=-1,\n",
    "        nullvalue=0.0,\n",
    "        plot=False,\n",
    "        adjclose = False\n",
    "    )\n",
    "    cerebro.adddata(data)\n",
    "\n",
    "cerebro.broker.setcash(1_000_000)\n",
    "cerebro.addobserver(bt.observers.Value)\n",
    "cerebro.addanalyzer(bt.analyzers.SharpeRatio, riskfreerate=0.01)\n",
    "cerebro.addanalyzer(bt.analyzers.Returns)\n",
    "cerebro.addanalyzer(bt.analyzers.DrawDown)\n",
    "cerebro.addstrategy(CrossSectionalMR)\n",
    "results = cerebro.run()"
   ]
  },
  {
   "cell_type": "code",
   "execution_count": null,
   "metadata": {},
   "outputs": [],
   "source": [
    "import os\n",
    "os.path.isdir('../data/survivorship-free')"
   ]
  },
  {
   "cell_type": "code",
   "execution_count": null,
   "metadata": {},
   "outputs": [],
   "source": [
    "print(f\"Sharpe: {results[0].analyzers.sharperatio.get_analysis()['sharperatio']:.3f}\")\n",
    "print(f\"Norm. Annual Return: {results[0].analyzers.returns.get_analysis()['rnorm100']:.2f}%\")\n",
    "print(f\"Max Drawdown: {results[0].analyzers.drawdown.get_analysis()['max']['drawdown']:.2f}%\")\n",
    "cerebro.plot()[0][0]"
   ]
  },
  {
   "cell_type": "code",
   "execution_count": null,
   "metadata": {},
   "outputs": [],
   "source": []
  },
  {
   "cell_type": "code",
   "execution_count": null,
   "metadata": {},
   "outputs": [],
   "source": []
  }
 ],
 "metadata": {
  "kernelspec": {
   "display_name": "Python 3",
   "language": "python",
   "name": "python3"
  },
  "language_info": {
   "codemirror_mode": {
    "name": "ipython",
    "version": 3
   },
   "file_extension": ".py",
   "mimetype": "text/x-python",
   "name": "python",
   "nbconvert_exporter": "python",
   "pygments_lexer": "ipython3",
   "version": "3.7.0"
  }
 },
 "nbformat": 4,
 "nbformat_minor": 2
}
