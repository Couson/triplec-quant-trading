{
 "cells": [
  {
   "cell_type": "code",
   "execution_count": 2,
   "metadata": {},
   "outputs": [],
   "source": [
    "import datetime  # For datetime objects\n",
    "import os.path  # To manage paths\n",
    "import sys  # To find out the script name (in argv[0])\n",
    "\n",
    "import backtrader as bt\n",
    "\n",
    "\n",
    "src_path = '/Users/yifeining/Documents/GitHub/triplec-quant-trading/src'\n",
    "if src_path not in sys.path:\n",
    "    sys.path.insert(0, src_path)\n",
    "    \n",
    "from models import *\n",
    "from strategy import *"
   ]
  },
  {
   "cell_type": "code",
   "execution_count": 28,
   "metadata": {
    "scrolled": false
   },
   "outputs": [
    {
     "name": "stdout",
     "output_type": "stream",
     "text": [
      "Starting Portfolio Value: 10000.00\n",
      "Final Portfolio Value: 10000.00\n"
     ]
    }
   ],
   "source": [
    "\n",
    "cerebro = bt.Cerebro()\n",
    "\n",
    "# Add a strategy\n",
    "cerebro.addstrategy(Strategy)\n",
    "\n",
    "# Datas are in a subfolder of the samples. Need to find where the script is\n",
    "# because it could have been called from anywhere\n",
    "dir_path = '/Users/yifeining/Documents/GitHub/triplec-quant-trading'\n",
    "# datapath = os.path.join(modpath, '../../datas/orcl-1995-2014.txt')\n",
    "datapath = os.path.join(dir_path, 'data', 'survivorship-free', 'AAPL.csv')\n",
    "\n",
    "# Create a Data Feed\n",
    "data = bt.feeds.YahooFinanceCSVData(\n",
    "    dataname=datapath,\n",
    "    # Do not pass values before this date\n",
    "    fromdate=datetime.datetime(2013, 1, 1),\n",
    "    # Do not pass values before this date\n",
    "    todate=datetime.datetime(2015, 12, 31),\n",
    "    # Do not pass values after this date\n",
    "    reverse=False)\n",
    "\n",
    "# Add the Data Feed to Cerebro\n",
    "cerebro.adddata(data)\n",
    "\n",
    "# Set our desired cash start\n",
    "cerebro.broker.setcash(10000.0)\n",
    "\n",
    "# Add a FixedSize sizer according to the stake\n",
    "cerebro.addsizer(bt.sizers.FixedSize, stake=10)\n",
    "\n",
    "# Set the commission - 0.1% ... divide by 100 to remove the %\n",
    "cerebro.broker.setcommission(commission=0.001)\n",
    "\n",
    "# Print out the starting conditions\n",
    "print('Starting Portfolio Value: %.2f' % cerebro.broker.getvalue())\n",
    "\n",
    "# Run over everything\n",
    "cerebro.run()\n",
    "\n",
    "# Print out the final result\n",
    "print('Final Portfolio Value: %.2f' % cerebro.broker.getvalue())"
   ]
  },
  {
   "cell_type": "code",
   "execution_count": null,
   "metadata": {},
   "outputs": [],
   "source": []
  }
 ],
 "metadata": {
  "kernelspec": {
   "display_name": "Python 3",
   "language": "python",
   "name": "python3"
  },
  "language_info": {
   "codemirror_mode": {
    "name": "ipython",
    "version": 3
   },
   "file_extension": ".py",
   "mimetype": "text/x-python",
   "name": "python",
   "nbconvert_exporter": "python",
   "pygments_lexer": "ipython3",
   "version": "3.7.0"
  }
 },
 "nbformat": 4,
 "nbformat_minor": 4
}
